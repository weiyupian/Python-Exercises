{
 "cells": [
  {
   "cell_type": "code",
   "execution_count": 3,
   "metadata": {},
   "outputs": [
    {
     "data": {
      "text/plain": [
       "False"
      ]
     },
     "execution_count": 3,
     "metadata": {},
     "output_type": "execute_result"
    }
   ],
   "source": [
    "def test(li,i):\n",
    "    '''检查给定的整数列表，其中前 i 个整数的和为 i'''\n",
    "    return sum(li[:i]) == i\n",
    "li = [2,2,2,5,56,4]\n",
    "test(li,2)\n"
   ]
  },
  {
   "cell_type": "code",
   "execution_count": 24,
   "metadata": {},
   "outputs": [
    {
     "name": "stdout",
     "output_type": "stream",
     "text": [
      "['W3resource', ' ', 'Python', ', ', 'Exercises', '.', '']\n"
     ]
    },
    {
     "data": {
      "text/plain": [
       "[['W3resource', 'Python', 'Exercises', ''], [' ', ', ', '.']]"
      ]
     },
     "execution_count": 24,
     "metadata": {},
     "output_type": "execute_result"
    }
   ],
   "source": [
    "import re\n",
    "def test(string):\n",
    "    '''将一串用逗号和空格分隔的单词拆分为两个列表，即单词和分隔符'''\n",
    "    merged = re.split(r\"([ ,.]+)\", string)\n",
    "    print(merged)\n",
    "    return [merged[::2], merged[1::2]]\n",
    "\n",
    "s = \"W3resource Python, Exercises.\"\n",
    "test(s)"
   ]
  },
  {
   "cell_type": "code",
   "execution_count": 31,
   "metadata": {},
   "outputs": [
    {
     "data": {
      "text/plain": [
       "True"
      ]
     },
     "execution_count": 31,
     "metadata": {},
     "output_type": "execute_result"
    }
   ],
   "source": [
    "def test(nums):\n",
    "    '''查找一个包含四个不同值的整数列表，使得前二十个条目中没有整数连续重复两次'''\n",
    "    return all([nums[i] != nums[i + 1] for i in range(len(nums) - 1)]) and len(set(nums)) == 4\n",
    "\n",
    "nums = [1,2,3,4,2]\n",
    "test(nums)"
   ]
  },
  {
   "cell_type": "code",
   "execution_count": null,
   "metadata": {},
   "outputs": [],
   "source": [
    "def test(combined):\n",
    "    '''给定一个由空格和匹配的括号组组成的字符串，编写一个 Python 程序将其拆分为完全匹配的括号组，没有任何空格'''\n",
    "    ls = []\n",
    "    s2 = \"\"\n",
    "    for s in combined.replace(' ', ''):\n",
    "        s2 += s\n",
    "        \n",
    "        if s2.count(\"(\") == s2.count(\")\"):\n",
    "            ls.append(s2)\n",
    "            \n",
    "            s2 = \"\"\n",
    "    \n",
    "    return ls\n",
    "\n",
    "combined = '( ()) ((()()())) (()) ()'\n",
    "test(combined)\n"
   ]
  },
  {
   "cell_type": "code",
   "execution_count": 39,
   "metadata": {},
   "outputs": [
    {
     "data": {
      "text/plain": [
       "[0, 1, 2, 3, 4, 5, 9]"
      ]
     },
     "execution_count": 39,
     "metadata": {},
     "output_type": "execute_result"
    }
   ],
   "source": [
    "def test(nums,thresh):\n",
    "    '''查找给定列表中低于给定阈值的数字索引。'''\n",
    "    return [i for i, n in enumerate(nums) if n < thresh]\n",
    "\n",
    "nums = [1,23,4,5,6,44,6677,222,4556,22]\n",
    "test(nums,50)"
   ]
  }
 ],
 "metadata": {
  "kernelspec": {
   "display_name": "python_3.7",
   "language": "python",
   "name": "python3"
  },
  "language_info": {
   "codemirror_mode": {
    "name": "ipython",
    "version": 3
   },
   "file_extension": ".py",
   "mimetype": "text/x-python",
   "name": "python",
   "nbconvert_exporter": "python",
   "pygments_lexer": "ipython3",
   "version": "3.7.16"
  }
 },
 "nbformat": 4,
 "nbformat_minor": 2
}
