{
 "cells": [
  {
   "cell_type": "code",
   "execution_count": 3,
   "metadata": {},
   "outputs": [
    {
     "data": {
      "text/plain": [
       "False"
      ]
     },
     "execution_count": 3,
     "metadata": {},
     "output_type": "execute_result"
    }
   ],
   "source": [
    "def test(li,i):\n",
    "    '''检查给定的整数列表，其中前 i 个整数的和为 i'''\n",
    "    return sum(li[:i]) == i\n",
    "li = [2,2,2,5,56,4]\n",
    "test(li,2)\n"
   ]
  },
  {
   "cell_type": "code",
   "execution_count": 24,
   "metadata": {},
   "outputs": [
    {
     "name": "stdout",
     "output_type": "stream",
     "text": [
      "['W3resource', ' ', 'Python', ', ', 'Exercises', '.', '']\n"
     ]
    },
    {
     "data": {
      "text/plain": [
       "[['W3resource', 'Python', 'Exercises', ''], [' ', ', ', '.']]"
      ]
     },
     "execution_count": 24,
     "metadata": {},
     "output_type": "execute_result"
    }
   ],
   "source": [
    "import re\n",
    "def test(string):\n",
    "    '''将一串用逗号和空格分隔的单词拆分为两个列表，即单词和分隔符'''\n",
    "    merged = re.split(r\"([ ,.]+)\", string)\n",
    "    print(merged)\n",
    "    return [merged[::2], merged[1::2]]\n",
    "\n",
    "s = \"W3resource Python, Exercises.\"\n",
    "test(s)"
   ]
  },
  {
   "cell_type": "code",
   "execution_count": 31,
   "metadata": {},
   "outputs": [
    {
     "data": {
      "text/plain": [
       "True"
      ]
     },
     "execution_count": 31,
     "metadata": {},
     "output_type": "execute_result"
    }
   ],
   "source": [
    "def test(nums):\n",
    "    '''查找一个包含四个不同值的整数列表，使得前二十个条目中没有整数连续重复两次'''\n",
    "    return all([nums[i] != nums[i + 1] for i in range(len(nums) - 1)]) and len(set(nums)) == 4\n",
    "\n",
    "nums = [1,2,3,4,2]\n",
    "test(nums)"
   ]
  },
  {
   "cell_type": "code",
   "execution_count": null,
   "metadata": {},
   "outputs": [],
   "source": [
    "def test(combined):\n",
    "    '''给定一个由空格和匹配的括号组组成的字符串，编写一个 Python 程序将其拆分为完全匹配的括号组，没有任何空格'''\n",
    "    ls = []\n",
    "    s2 = \"\"\n",
    "    for s in combined.replace(' ', ''):\n",
    "        s2 += s\n",
    "        \n",
    "        if s2.count(\"(\") == s2.count(\")\"):\n",
    "            ls.append(s2)\n",
    "            \n",
    "            s2 = \"\"\n",
    "    \n",
    "    return ls\n",
    "\n",
    "combined = '( ()) ((()()())) (()) ()'\n",
    "test(combined)\n"
   ]
  },
  {
   "cell_type": "code",
   "execution_count": 2,
   "metadata": {},
   "outputs": [
    {
     "data": {
      "text/plain": [
       "[0, 1, 2, 3, 4, 5, 9]"
      ]
     },
     "execution_count": 2,
     "metadata": {},
     "output_type": "execute_result"
    }
   ],
   "source": [
    "def test(nums,thresh):\n",
    "    '''查找给定列表中低于给定阈值的数字索引。'''\n",
    "    return [i for i, n in enumerate(nums) if n < thresh]\n",
    "\n",
    "nums = [1,23,4,5,6,44,6677,222,4556,22]\n",
    "test(nums,50)"
   ]
  },
  {
   "cell_type": "code",
   "execution_count": 19,
   "metadata": {},
   "outputs": [
    {
     "data": {
      "text/plain": [
       "[False, True, True, False, False]"
      ]
     },
     "execution_count": 19,
     "metadata": {},
     "output_type": "execute_result"
    }
   ],
   "source": [
    "def test(strs):\n",
    "    '''编写一个 Python 程序来检查给定的字符串倒过来是否与原来一样。返回 True，否则返回 False。'''\n",
    "    return [s == s[::-1] for s in strs]\n",
    "\n",
    "str = ['palindrome', 'madamimadam', '', 'foo', 'eyes']\n",
    "test(str)"
   ]
  },
  {
   "cell_type": "code",
   "execution_count": 20,
   "metadata": {},
   "outputs": [
    {
     "data": {
      "text/plain": [
       "['cat', 'car']"
      ]
     },
     "execution_count": 20,
     "metadata": {},
     "output_type": "execute_result"
    }
   ],
   "source": [
    "def test(strs,prefix):\n",
    "    '''13.编写一个 Python 程序，在给定列表中查找以给定前缀开头的字符串。'''\n",
    "    return [s for s in strs if s.startswith(prefix)]\n",
    "strs = ['cat', 'car', 'fear', 'center']\n",
    "test(strs,'ca')"
   ]
  },
  {
   "cell_type": "code",
   "execution_count": 21,
   "metadata": {},
   "outputs": [
    {
     "data": {
      "text/plain": [
       "[3, 3, 4, 6]"
      ]
     },
     "execution_count": 21,
     "metadata": {},
     "output_type": "execute_result"
    }
   ],
   "source": [
    "def test(li):\n",
    "    '''14.编写一个 Python 程序来查找给定非空字符串列表的长度。'''\n",
    "    return [len(i) for i in li]\n",
    "\n",
    "li = ['cat', 'car', 'fear', 'center']\n",
    "test(li)\n"
   ]
  },
  {
   "cell_type": "code",
   "execution_count": 23,
   "metadata": {},
   "outputs": [
    {
     "data": {
      "text/plain": [
       "[3, 3, 4, 6]"
      ]
     },
     "execution_count": 23,
     "metadata": {},
     "output_type": "execute_result"
    }
   ],
   "source": [
    "def test(strs):\n",
    "    '''14.编写一个 Python 程序来查找给定非空字符串列表的长度。'''\n",
    "    return [*map(len, strs)]\n",
    "\n",
    "strs = ['cat', 'car', 'fear', 'center']\n",
    "test(strs)"
   ]
  },
  {
   "cell_type": "code",
   "execution_count": 24,
   "metadata": {},
   "outputs": [
    {
     "data": {
      "text/plain": [
       "'center'"
      ]
     },
     "execution_count": 24,
     "metadata": {},
     "output_type": "execute_result"
    }
   ],
   "source": [
    "def test(words):\n",
    "    '''15.编写一个 Python 程序，在给定的字符串列表中查找最长的字符串。'''\n",
    "    return max(words, key=len)\n",
    "\n",
    "strs = ['cat', 'car', 'fear', 'center']\n",
    "test(strs)"
   ]
  },
  {
   "cell_type": "code",
   "execution_count": 30,
   "metadata": {},
   "outputs": [
    {
     "data": {
      "text/plain": [
       "'center'"
      ]
     },
     "execution_count": 30,
     "metadata": {},
     "output_type": "execute_result"
    }
   ],
   "source": [
    "def test(strs):\n",
    "    '''15.编写一个 Python 程序，在给定的字符串列表中查找最长的字符串。'''\n",
    "    return strs[[*map(len, strs)].index(max([*map(len, strs)]))]\n",
    "\n",
    "strs = ['cat', 'car', 'fear', 'center']\n",
    "test(strs)"
   ]
  },
  {
   "cell_type": "code",
   "execution_count": 32,
   "metadata": {},
   "outputs": [
    {
     "data": {
      "text/plain": [
       "['car', 'fear']"
      ]
     },
     "execution_count": 32,
     "metadata": {},
     "output_type": "execute_result"
    }
   ],
   "source": [
    "def test(strs,substr):\n",
    "    '''16.编写一个 Python 程序，在给定列表中查找包含给定子字符串的字符串。'''\n",
    "    return [s for s in strs if substr in s]\n",
    "\n",
    "strs = ['cat', 'car', 'fear', 'center']\n",
    "test(strs,'ar')"
   ]
  },
  {
   "cell_type": "code",
   "execution_count": 2,
   "metadata": {},
   "outputs": [
    {
     "data": {
      "text/plain": [
       "'[0, 1, 2, 3, 4, 5, 6, 7, 8, 9, 10, 11, 12, 13, 14, 15]'"
      ]
     },
     "execution_count": 2,
     "metadata": {},
     "output_type": "execute_result"
    }
   ],
   "source": [
    "def test(n):\n",
    "    '''17.编写一个 Python 程序来创建一个由最多 n 个非负整数组成的字符串。'''\n",
    "    return str([i for i in range(n+1)])\n",
    "\n",
    "test(15)"
   ]
  },
  {
   "cell_type": "code",
   "execution_count": 1,
   "metadata": {},
   "outputs": [
    {
     "data": {
      "text/plain": [
       "'0 1 2 3 4 5 6 7 8 9 10 11 12 13 14 15'"
      ]
     },
     "execution_count": 1,
     "metadata": {},
     "output_type": "execute_result"
    }
   ],
   "source": [
    "def test(n):\n",
    "    '''17.编写一个 Python 程序来创建一个由最多 n 个非负整数组成的字符串。'''\n",
    "    return ' '.join(map(str, range(n + 1)))\n",
    "\n",
    "test(15)"
   ]
  },
  {
   "cell_type": "code",
   "execution_count": 3,
   "metadata": {},
   "outputs": [
    {
     "data": {
      "text/plain": [
       "[[0, 4], [1, 0], [1, 3], [4, 1]]"
      ]
     },
     "execution_count": 3,
     "metadata": {},
     "output_type": "execute_result"
    }
   ],
   "source": [
    "def test(M,T):\n",
    "    '''18.不规则/不均匀矩阵或不规则矩阵是每行元素数量不同的矩阵。不规则矩阵不用于线性代数，因为无法对它们执行标准矩阵变换，但它们在计算中用作数组。\n",
    "        编写一个 Python 程序来查找不均匀矩阵中所有出现的 target 的索引。'''\n",
    "    return [[i, j] for i, row in enumerate(M) for j, n in enumerate(row) if n == T]\n",
    "M = [[1, 3, 2, 32, 19], [19, 2, 48, 19], [], [9, 35, 4], [3, 19]]\n",
    "T = 19\n",
    "test(M,T)"
   ]
  },
  {
   "cell_type": "code",
   "execution_count": 11,
   "metadata": {},
   "outputs": [
    {
     "data": {
      "text/plain": [
       "['b', 'd']"
      ]
     },
     "execution_count": 11,
     "metadata": {},
     "output_type": "execute_result"
    }
   ],
   "source": [
    "def test(s):\n",
    "    '''19. 编写一个 Python 程序，如果给定的字符串（s）中有空格，则将其拆分为字符串，否则如果有逗号，则用逗号拆分，否则返回奇数顺序的小写字母列表（顺序为 a = 0、b = 1 等）。'''\n",
    "    if \" \" in s:\n",
    "        return s.split(\" \")\n",
    "    elif \",\" in s:\n",
    "        return s.split(\",\")\n",
    "    else:   \n",
    "        return [c for c in s if c.islower() and ord(c) % 2 == 0]  #ord() 函数是 chr() 函数（对于8位的ASCII字符串）或 unichr() 函数（对于Unicode对象）的配对函数\n",
    "    \n",
    "strs = \"abcd\"\n",
    "test(strs)"
   ]
  },
  {
   "cell_type": "code",
   "execution_count": 14,
   "metadata": {},
   "outputs": [
    {
     "name": "stdout",
     "output_type": "stream",
     "text": [
      "97\n",
      "a\n"
     ]
    }
   ],
   "source": [
    "print(ord('a'))\n",
    "print(chr(97))"
   ]
  },
  {
   "cell_type": "code",
   "execution_count": 1,
   "metadata": {},
   "outputs": [
    {
     "data": {
      "text/plain": [
       "'增加'"
      ]
     },
     "execution_count": 1,
     "metadata": {},
     "output_type": "execute_result"
    }
   ],
   "source": [
    "def test(nums):\n",
    "    '''20.单调序列是不断增加或不断减少的序列。\n",
    "    编写一个 Python 程序来确定单调序列数的方向（“增加”或“减少”）。'''\n",
    "    if all(nums[i] < nums[i+1] for i in range(len(nums)-1)):\n",
    "        return '增加'\n",
    "    elif all(nums[i] > nums[i+i] for i in range(len(nums)-1)):\n",
    "        return '减少'\n",
    "    else:\n",
    "        return '不是单调序列'\n",
    "    \n",
    "nums = [1, 2, 3, 4, 5, 6]\n",
    "test(nums)"
   ]
  },
  {
   "cell_type": "code",
   "execution_count": 2,
   "metadata": {},
   "outputs": [
    {
     "data": {
      "text/plain": [
       "[True, False, True, True]"
      ]
     },
     "execution_count": 2,
     "metadata": {},
     "output_type": "execute_result"
    }
   ],
   "source": [
    "def test(strs):\n",
    "    '''21.编写一个 Python 程序来检查给定列表中的每个字符串的最后一个字符是否有空格。返回 True，否则返回 False。'''\n",
    "    return [i[-2] == ' ' for i in strs]\n",
    "\n",
    "strs = ['ca t', 'car', 'fea r', 'cente r']\n",
    "test(strs)  \n"
   ]
  },
  {
   "cell_type": "code",
   "execution_count": 3,
   "metadata": {},
   "outputs": [
    {
     "data": {
      "text/plain": [
       "[True, False, True, True]"
      ]
     },
     "execution_count": 3,
     "metadata": {},
     "output_type": "execute_result"
    }
   ],
   "source": [
    "def test(strs):\n",
    "    '''21.编写一个 Python 程序来检查给定列表中的每个字符串的最后一个字符是否有空格。返回 True，否则返回 False。'''\n",
    "    return [len(s.split(\" \")[-1]) == 1 for s in strs]\n",
    "\n",
    "strs = ['ca t', 'car', 'fea r', 'cente r']\n",
    "test(strs)  "
   ]
  },
  {
   "cell_type": "code",
   "execution_count": 4,
   "metadata": {},
   "outputs": [
    {
     "data": {
      "text/plain": [
       "373"
      ]
     },
     "execution_count": 4,
     "metadata": {},
     "output_type": "execute_result"
    }
   ],
   "source": [
    "def test(str):\n",
    "    '''22.编写一个 Python 程序来计算给定字符串中大写字符的 ASCII 值之和。'''\n",
    "    return sum([ord(i) for i in str if i.lower() != i])\n",
    "\n",
    "str = 'PytHon ExerciSEs'\n",
    "test(str)"
   ]
  },
  {
   "cell_type": "code",
   "execution_count": 6,
   "metadata": {},
   "outputs": [
    {
     "name": "stdout",
     "output_type": "stream",
     "text": [
      "373\n"
     ]
    }
   ],
   "source": [
    "def test(s):\n",
    "    '''22.编写一个 Python 程序来计算给定字符串中大写字符的 ASCII 值之和。'''\n",
    "    return sum(map(ord, filter(lambda ch: ch.isupper(), s)))\n",
    "\n",
    "s = 'PytHon ExerciSEs'\n",
    "print(test(s))  # 输出：373"
   ]
  },
  {
   "cell_type": "code",
   "execution_count": 2,
   "metadata": {},
   "outputs": [
    {
     "data": {
      "text/plain": [
       "[1, 4, 6, 8, 10, 11, 15, 16, 18]"
      ]
     },
     "execution_count": 2,
     "metadata": {},
     "output_type": "execute_result"
    }
   ],
   "source": [
    "def test(nums):\n",
    "    '''23.编写一个 Python 程序来查找列表中数字下降的索引。\n",
    "    注意：只需检查 nums[i] < nums[i-1] 是否为真，即可检测出多个下降。'''\n",
    "    drop_indices = []\n",
    "    for i in range(1, len(nums)):\n",
    "        if nums[i] < nums[i-1]:\n",
    "            drop_indices.append(i)\n",
    "    return drop_indices\n",
    "\n",
    "nums = [0, -1, 3, 8, 5, 9, 8, 14, 2, 4, 3, -10, 10, 17, 41, 22, -4, -4, -15, 0]\n",
    "test(nums)   \n"
   ]
  },
  {
   "cell_type": "code",
   "execution_count": 9,
   "metadata": {},
   "outputs": [
    {
     "data": {
      "text/plain": [
       "[6, 6, 6, 6, 6, 6]"
      ]
     },
     "execution_count": 9,
     "metadata": {},
     "output_type": "execute_result"
    }
   ],
   "source": [
    "def test(nums):\n",
    "    '''24.编写一个 Python 程序来创建一个列表，其第 i个元素是输入列表中前 i 个元素中的最大值。'''\n",
    "    return [max(nums[:i]) for i in range(1, len(nums) + 1)]\n",
    "\n",
    "nums = [6, 5, 4, 3, 2, 1]\n",
    "test(nums)"
   ]
  },
  {
   "cell_type": "code",
   "execution_count": 32,
   "metadata": {},
   "outputs": [
    {
     "data": {
      "text/plain": [
       "'1010'"
      ]
     },
     "execution_count": 32,
     "metadata": {},
     "output_type": "execute_result"
    }
   ],
   "source": [
    "def test(nums):\n",
    "    '''25.编写一个 Python 程序，查找两个给定字符串的异或，这些字符串被解释为二进制数。'''\n",
    "    a, b = nums\n",
    "    xor = int(a, 2) ^ int(b, 2)\n",
    "    return bin(xor)[2:].zfill(len(a))   #zfill(n) 用来在字符串前面补足 0 使其长度达到 n\n",
    "\n",
    "nums = [\"0001\", \"1011\"]\n",
    "test(nums)"
   ]
  },
  {
   "cell_type": "code",
   "execution_count": 33,
   "metadata": {},
   "outputs": [
    {
     "data": {
      "text/plain": [
       "'0b1010'"
      ]
     },
     "execution_count": 33,
     "metadata": {},
     "output_type": "execute_result"
    }
   ],
   "source": [
    "def test(nums):\n",
    "    '''25.编写一个 Python 程序，查找两个给定字符串的异或，这些字符串被解释为二进制数。\n",
    "        字符串 是一种数据类型，用来存储文本信息。二进制字符串是字符数据：例如 \"0001\" 和 \"1011\" 是字符类型，不能直接参与数学运算或位运算。它们需要先转成整数类型。\n",
    "        整数 是另一种数据类型，可以进行数学和位运算。\n",
    "        异或运算必须在整数上进行，因此我们需要先将二进制字符串通过 int 转换为整数，然后才能进行异或操作。\n",
    "        异或运算符 ^：只有整数类型才能进行异或运算。在二进制形式上进行位运算时，计算机是基于整数的二进制表示来执行的。\n",
    "        '''\n",
    "    return bin(int(nums[0], 2) ^ int(nums[1], 2))   \n",
    "\n",
    "nums = [\"0001\", \"1011\"]\n",
    "test(nums)"
   ]
  },
  {
   "cell_type": "markdown",
   "metadata": {},
   "source": [
    "这个函数 test(nums) 的作用是将输入的两个二进制字符串进行异或运算（XOR），并返回其结果。\n",
    "\n",
    "具体解释：\n",
    "\n",
    "        1.        输入：nums = [\"0001\", \"1011\"]，这是一个列表，包含两个二进制字符串。\n",
    "        2.        int(nums[0], 2)：将第一个二进制字符串 \"0001\" 转换为十进制整数，即 1。\n",
    "        3.        int(nums[1], 2)：将第二个二进制字符串 \"1011\" 转换为十进制整数，即 11。\n",
    "        4.        异或操作 ^：1 ^ 11 表示将 1 和 11 进行按位异或，结果为 10。\n",
    "        5.        bin()：将结果 10 转换回二进制字符串，结果是 \"0b1010\"。0b 是表示二进制的前缀。\n",
    "\n",
    "总结：\n",
    "test(nums) 返回的结果是二进制字符串 \"0b1010\"，即异或运算后的结果。\n",
    "\n",
    "nums = [\"0001\", \"1011\"]\n",
    "# 1 (binary: 0001)\n",
    "# 11 (binary: 1011)\n",
    "# XOR result is 1010 (binary), which is 10 in decimal.\n",
    "\n",
    "异或运算（XOR，exclusive OR）是一种常见的位运算。它的运算规则是：\n",
    "\n",
    "        •        对应位置的两个二进制位不同，结果为1；\n",
    "        •        对应位置的两个二进制位相同，结果为0。\n",
    "\n",
    "也就是说，异或运算只有在对应的两个二进制位不相同时，结果才是1；如果两个位相同（无论都是0还是都是1），结果是0。\n",
    "\n",
    "异或运算的规则：\n",
    "\n",
    "A        B        A ⊕ B\n",
    "0        0        0\n",
    "0        1        1\n",
    "1        0        1\n",
    "1        1        0\n",
    "\n",
    "示例：\n",
    "\n",
    "假设我们有两个二进制数进行异或运算：\n",
    "\n",
    "A = 1101\n",
    "B = 1011\n",
    "A ⊕ B = 0110\n",
    "\n",
    "详细过程：\n",
    "\n",
    "        1.        第一位：1 ⊕ 1 = 0\n",
    "        2.        第二位：1 ⊕ 0 = 1\n",
    "        3.        第三位：0 ⊕ 1 = 1\n",
    "        4.        第四位：1 ⊕ 1 = 0\n",
    "\n",
    "因此，1101 ⊕ 1011 = 0110。\n",
    "\n",
    "异或运算的特性：\n",
    "\n",
    "        1.        自反性：A ⊕ A = 0。任何数与自己异或的结果都是0。\n",
    "        2.        交换性：A ⊕ B = B ⊕ A。顺序无关。\n",
    "        3.        结合性：(A ⊕ B) ⊕ C = A ⊕ (B ⊕ C)。可以按任意顺序进行。\n",
    "        4.        异或0：A ⊕ 0 = A。任何数与0异或，结果还是它本身。\n",
    "\n",
    "异或运算在许多算法中非常有用，尤其是在数据加密、校验和、以及位运算相关的操作中。\n",
    "\n",
    "为了理解 1 ⊕ 11 为什么等于 10，我们需要从二进制角度进行异或运算。\n",
    "\n",
    "        1.        将两个数转为二进制：\n",
    "        •        1（十进制）对应的二进制是 0001\n",
    "        •        11（十进制）对应的二进制是 1011\n",
    "        2.        对它们进行逐位异或：\n",
    "\n",
    "   0001  (1)\n",
    "⊕  1011  (11)\n",
    "---------\n",
    "   1010  (10)\n",
    "\n",
    "逐位解释：\n",
    "\n",
    "        •        第一位：1 ⊕ 1 = 0\n",
    "        •        第二位：0 ⊕ 1 = 1\n",
    "        •        第三位：0 ⊕ 0 = 0\n",
    "        •        第四位：0 ⊕ 1 = 1\n",
    "\n",
    "最终结果是 1010，对应的十进制是 10，因此 1 ⊕ 11 = 10。\n",
    "\n",
    "解释总结：\n",
    "\n",
    "1 和 11 的二进制表示分别为 0001 和 1011，逐位异或后得到 1010，转换为十进制即为 10。\n",
    "\n",
    "在 Python 中，二进制字符串（如 \"0001\" 和 \"1011\") 不能直接进行异或运算，因为异或运算（^）是位运算符，它只能在整数类型之间进行。二进制字符串本质上是字符串类型，而不是数字，因此需要先将它们转换为整数才能进行位运算。\n",
    "\n",
    "为什么要使用 int 函数进行转换？\n",
    "\n",
    "        •        二进制字符串是字符数据：例如 \"0001\" 和 \"1011\" 是字符类型，不能直接参与数学运算或位运算。它们需要先转成整数类型。\n",
    "        •        int(二进制字符串, 2)：int() 函数可以将二进制字符串转换为整数，2 是告诉 Python 按照二进制的方式解析字符串。例如：\n",
    "        •        int(\"0001\", 2) 返回 1\n",
    "        •        int(\"1011\", 2) 返回 11\n",
    "        •        异或运算符 ^：只有整数类型才能进行异或运算。在二进制形式上进行位运算时，计算机是基于整数的二进制表示来执行的。\n",
    "\n",
    "举个例子：\n",
    "\n",
    "nums = [\"0001\", \"1011\"]\n",
    "\n",
    "# 转换为整数再异或\n",
    "result = int(nums[0], 2) ^ int(nums[1], 2)\n",
    "print(result)  # 输出 10\n",
    "\n",
    "如果不进行 int 转换会发生什么？\n",
    "\n",
    "如果直接对字符串进行异或（例如 \"0001\" ^ \"1011\"），Python 会抛出 TypeError，因为字符串不支持这样的位运算。\n",
    "\n",
    "总结：\n",
    "\n",
    "        •        字符串 是一种数据类型，用来存储文本信息。\n",
    "        •        整数 是另一种数据类型，可以进行数学和位运算。\n",
    "        •        异或运算必须在整数上进行，因此我们需要先将二进制字符串通过 int 转换为整数，然后才能进行异或操作。"
   ]
  },
  {
   "cell_type": "code",
   "execution_count": 41,
   "metadata": {},
   "outputs": [
    {
     "data": {
      "text/plain": [
       "102.1"
      ]
     },
     "execution_count": 41,
     "metadata": {},
     "output_type": "execute_result"
    }
   ],
   "source": [
    "def test(nums):\n",
    "    '''26.编写一个 Python 程序，找出逗号或句号为小数点的最大数字。'''\n",
    "    #return max([float(i.replace(',', '.')) for i in nums])\n",
    "    return max(float(i.replace(\",\", \".\")) for i in nums)\n",
    "nums = ['100', '102,1', '101.1']\n",
    "test(nums)"
   ]
  },
  {
   "cell_type": "markdown",
   "metadata": {},
   "source": [
    "在 Python 中，你可以在 max() 函数中使用生成器表达式，而不需要将其显式地转换为列表，这就是为什么代码中没有加列表括号依然能够执行成功的原因。\n",
    "\n",
    "列表解析 vs 生成器表达式：\n",
    "\n",
    "        1.        列表解析（list comprehension）：\n",
    "        •        max([float(i.replace(\",\", \".\")) for i in nums]) 中使用的是列表解析。它会立即生成一个完整的列表，将所有元素计算出来并存储在内存中，然后将这个列表传递给 max() 函数。\n",
    "        2.        生成器表达式（generator expression）：\n",
    "        •        max(float(i.replace(\",\", \".\")) for i in nums) 使用的是生成器表达式。生成器表达式不会立即计算并存储所有元素，而是惰性计算，即它会在每次需要时才生成下一个元素。生成器表达式比列表解析更节省内存，特别是当处理大量数据时。\n",
    "\n",
    "具体解释：\n",
    "\n",
    "        •        max() 函数接受任何可迭代对象作为输入，不管是列表、元组还是生成器。生成器表达式也是可迭代的，因此可以直接传递给 max() 函数。\n",
    "        •        当你使用生成器表达式时，max() 会从中逐个提取元素，逐步计算最大值，而不需要提前计算并存储所有元素。\n",
    "\n",
    "示例对比：\n",
    "\n",
    "列表解析：\n",
    "\n",
    "max([float(i.replace(\",\", \".\")) for i in nums])\n",
    "\n",
    "        •        这里 [float(i.replace(\",\", \".\")) for i in nums] 会先生成一个完整的列表，计算出每个 float 值并存储。\n",
    "        •        max() 函数会对这个列表进行最大值计算。\n",
    "\n",
    "生成器表达式：\n",
    "\n",
    "max(float(i.replace(\",\", \".\")) for i in nums)\n",
    "\n",
    "        •        这里 float(i.replace(\",\", \".\")) for i in nums 是生成器表达式，不会生成整个列表，而是逐个计算并提供给 max()。\n",
    "        •        max() 会直接从生成器中获取每个值并比较大小。\n",
    "\n",
    "什么时候使用生成器表达式？\n",
    "\n",
    "        •        当你不需要创建完整的列表时（例如只关心最大值、最小值或总和等）。\n",
    "        •        当处理大量数据时，生成器表达式可以节省内存，因为它不会将所有数据一次性加载到内存中。\n",
    "\n",
    "结论：\n",
    "\n",
    "没有使用列表括号的原因是因为你使用了生成器表达式，而生成器表达式是 max() 可以直接处理的。它更高效，尤其在处理大规模数据时，生成器表达式会比列表解析节省内存。"
   ]
  },
  {
   "cell_type": "code",
   "execution_count": 43,
   "metadata": {},
   "outputs": [
    {
     "data": {
      "text/plain": [
       "17.142857142857142"
      ]
     },
     "execution_count": 43,
     "metadata": {},
     "output_type": "execute_result"
    }
   ],
   "source": [
    "def test(nums):\n",
    "    '''27.编写一个 Python 程序来查找 x，使给定数字列表的均方偏差最小化。'''\n",
    "    return sum(nums) / len(nums)\n",
    "\n",
    "nums = [4, -5, 17, -9, 14, 108, -9]\n",
    "test(nums)\n"
   ]
  },
  {
   "cell_type": "code",
   "execution_count": 46,
   "metadata": {},
   "outputs": [
    {
     "data": {
      "text/plain": [
       "'abcdefhijklmnop'"
      ]
     },
     "execution_count": 46,
     "metadata": {},
     "output_type": "execute_result"
    }
   ],
   "source": [
    "def test(nums):\n",
    "    '''28.编写一个 Python 程序，从给定的字符串列表中选择一个具有最多唯一字符的字符串。'''\n",
    "    return max(nums, key=lambda x: len(set(x)))\n",
    "nums = ['cat', 'catatatatctsa', 'abcdefhijklmnop', '124259239185125', '', 'foo', 'unique']\n",
    "test(nums)"
   ]
  },
  {
   "cell_type": "code",
   "execution_count": 48,
   "metadata": {},
   "outputs": [
    {
     "data": {
      "text/plain": [
       "'abcdefhijklmnop'"
      ]
     },
     "execution_count": 48,
     "metadata": {},
     "output_type": "execute_result"
    }
   ],
   "source": [
    "def test(nums):\n",
    "    '''28.编写一个 Python 程序，从给定的字符串列表中选择一个具有最多唯一字符的字符串。'''\n",
    "    largest = \"\"\n",
    "    \n",
    "    for phrase in nums:\n",
    "        if len(set(phrase)) > len(set(largest)):  # 如果当前字符串的唯一字符数多于记录的字符串\n",
    "            largest = phrase  # 更新记录\n",
    "    \n",
    "    return largest\n",
    "\n",
    "nums = ['cat', 'catatatatctsa', 'abcdefhijklmnop', '124259239185125', '', 'foo', 'unique']\n",
    "test(nums)"
   ]
  },
  {
   "cell_type": "code",
   "execution_count": 56,
   "metadata": {},
   "outputs": [
    {
     "data": {
      "text/plain": [
       "[1, 7]"
      ]
     },
     "execution_count": 56,
     "metadata": {},
     "output_type": "execute_result"
    }
   ],
   "source": [
    "def test(nums):\n",
    "    '''29.编写一个 Python 程序，在给定的数字列表中查找两个数字之和为 0 的索引。'''\n",
    "    return [[i,j] for i in range(len(nums)) for j in range(len(nums)) if nums[i] + nums[j] == 0 and i != j][0]\n",
    "\n",
    "    # s = set(nums)\n",
    "    # for i in s:\n",
    "    #     if -i in s:\n",
    "    #         return [nums.index(i), nums.index(-i)]   # return 满足条件就返回，结束遍历\n",
    "    \n",
    "    # result = []\n",
    "    # for ind in range(len(nums)):\n",
    "    #     for i in range(len(nums)):\n",
    "    #         if ind != i and nums[ind] + nums[i] == 0:\n",
    "    #             result.append(ind)\n",
    "    #             result.append(i)\n",
    "    #             return result\n",
    "\n",
    "nums = [1232, -20352, 12547, 12440, 741, 341, 525, 20352, 91, 20]\n",
    "test(nums)\n"
   ]
  },
  {
   "cell_type": "code",
   "execution_count": 60,
   "metadata": {},
   "outputs": [
    {
     "data": {
      "text/plain": [
       "['this', 'list', 'is', 'narrow']"
      ]
     },
     "execution_count": 60,
     "metadata": {},
     "output_type": "execute_result"
    }
   ],
   "source": [
    "def test(nums):\n",
    "    '''30.编写一个 Python 程序，查找字符总数（包括重复）较少的字符串列表。'''\n",
    "    return min(nums, key=lambda x: sum(len(i) for i in x))\n",
    "\n",
    "nums = [['this', 'list', 'is', 'narrow'], ['I', 'am', 'shorter but wide']]\n",
    "test(nums)\n"
   ]
  },
  {
   "cell_type": "markdown",
   "metadata": {},
   "source": [
    "列表解析（List Comprehension）和生成器表达式（Generator Expression）是 Python 中创建序列的两种常用方式。它们在语法结构上非常相似，但在行为和性能上有一些关键区别。\n",
    "\n",
    "1. 列表解析（List Comprehension）\n",
    "\n",
    "特点：\n",
    "\n",
    "        •        列表解析是一种紧凑的语法，用来生成列表。\n",
    "        •        它在内存中会一次性生成整个列表，即列表中的所有元素会在计算时立即存储到内存中。\n",
    "        •        适用于需要立即访问整个序列，并且数据量不会占用太多内存的场景。\n",
    "\n",
    "语法：\n",
    "\n",
    "[expression for item in iterable if condition]\n",
    "\n",
    "例子：\n",
    "\n",
    "# 创建一个包含 1 到 5 的平方的列表\n",
    "squares = [x**2 for x in range(1, 6)]\n",
    "print(squares)  # 输出: [1, 4, 9, 16, 25]\n",
    "\n",
    "        •        在这个例子中，列表 [1, 4, 9, 16, 25] 是一次性生成的，并保存在内存中。\n",
    "\n",
    "2. 生成器表达式（Generator Expression）\n",
    "\n",
    "特点：\n",
    "\n",
    "        •        生成器表达式用于生成生成器，是一种惰性求值的方式，也就是说，它不会立即生成所有元素，而是会在需要的时候（例如在迭代时）逐一生成元素。\n",
    "        •        与列表解析不同，生成器表达式不会占用大量内存，特别适用于处理大量数据或流式数据的场景。\n",
    "\n",
    "语法：\n",
    "\n",
    "(expression for item in iterable if condition)\n",
    "\n",
    "例子：\n",
    "\n",
    "# 创建一个生成器，生成 1 到 5 的平方\n",
    "squares_gen = (x**2 for x in range(1, 6))\n",
    "print(squares_gen)  # 输出: <generator object <genexpr> at 0x...>\n",
    "print(list(squares_gen))  # 输出: [1, 4, 9, 16, 25]\n",
    "\n",
    "        •        在这里，squares_gen 是一个生成器对象。生成器不会像列表解析那样立即计算所有元素，而是每次迭代时生成一个值。list(squares_gen) 将生成器的所有值转换成列表。\n",
    "\n",
    "主要区别\n",
    "\n",
    "区别        列表解析（List Comprehension）        生成器表达式（Generator Expression）\n",
    "返回类型        返回一个列表        返回一个生成器对象\n",
    "内存消耗        一次性生成整个列表，占用内存        逐一生成元素，内存占用较小\n",
    "性能        适合数据量较小的场景，生成速度快        适合处理大数据，生成速度慢于列表解析，但更节省内存\n",
    "语法        使用方括号 [] 包裹表达式        使用圆括号 () 包裹表达式\n",
    "立即生成所有元素        是        否（懒加载，按需生成）\n",
    "\n",
    "使用场景\n",
    "\n",
    "        •        列表解析适用于：\n",
    "        •        当需要整个列表可用时（如传递给函数需要列表输入）。\n",
    "        •        数据量较小且不需要考虑内存开销时。\n",
    "        •        生成器表达式适用于：\n",
    "        •        数据量非常大时，且只需逐步处理数据而不需要一次性获取所有数据。\n",
    "        •        例如处理流式数据、日志文件或大规模数据集时，可以用生成器节省内存。\n",
    "\n",
    "实例比较\n",
    "\n",
    "列表解析：\n",
    "\n",
    "# 创建 1 到 10 的平方列表\n",
    "squares = [x**2 for x in range(1, 11)]\n",
    "print(squares)  # 输出: [1, 4, 9, 16, 25, 36, 49, 64, 81, 100]\n",
    "\n",
    "生成器表达式：\n",
    "\n",
    "# 创建一个生成器，用于逐步生成 1 到 10 的平方\n",
    "squares_gen = (x**2 for x in range(1, 11))\n",
    "for square in squares_gen:\n",
    "    print(square)  # 逐个输出: 1, 4, 9, 16, 25, 36, 49, 64, 81, 100\n",
    "\n",
    "在生成器表达式的例子中，只有在 for 循环迭代到某个值时，才会生成该值，并且不会一次性占用大量内存。这是生成器的“惰性求值”特性。"
   ]
  },
  {
   "cell_type": "code",
   "execution_count": 61,
   "metadata": {},
   "outputs": [
    {
     "data": {
      "text/plain": [
       "[[0.0, 0.0], [3, 0.0], [3.0, 4.0]]"
      ]
     },
     "execution_count": 61,
     "metadata": {},
     "output_type": "execute_result"
    }
   ],
   "source": [
    "def test(sides):\n",
    "    '''31.编写一个 Python 程序来查找给定边长的三角形的坐标。\n",
    "    已知三角形的三边，可以使用海伦公式直接计算出三角形的面积，公式中三角形的面积S=p*(p-a)*(p-b)*(p-c)**0.5，其中p=（a+b+c），a，b，c是三角形的三条边。\n",
    "    '''\n",
    "    a, b, c = sorted(sides)\n",
    "    s = sum(sides) / 2\n",
    "    area = (s * (s - a) * (s - b) * (s - c)) ** 0.5\n",
    "    y = 2 * area / a\n",
    "    x = (c ** 2 - y ** 2) ** 0.5\n",
    "    return [[0.0, 0.0], [a, 0.0], [x, y]]\n",
    "\n",
    "sides = [3, 4, 5]\n",
    "test(sides)"
   ]
  },
  {
   "cell_type": "code",
   "execution_count": 67,
   "metadata": {},
   "outputs": [
    {
     "data": {
      "text/plain": [
       "[0.75, 0.0, 0.5, 1.0, 0.5]"
      ]
     },
     "execution_count": 67,
     "metadata": {},
     "output_type": "execute_result"
    }
   ],
   "source": [
    "def test(nums):\n",
    "    '''32.编写一个 Python 程序来重新缩放和移动给定列表中的数字，使它们覆盖范围 [0, 1]。'''\n",
    "    a = min(nums)\n",
    "    b = max(nums)\n",
    "    if b - a == 0:\n",
    "        return [0.0] + [1.0] * (len(nums) - 1)\n",
    "    \n",
    "    for i in range(len(nums)):\n",
    "        nums[i] = (nums[i] - a) / (b - a)\n",
    "    \n",
    "    return nums\n",
    "\n",
    "nums = [18.5, 17.0, 18.0, 19.0, 18.0]\n",
    "test(nums)"
   ]
  },
  {
   "cell_type": "markdown",
   "metadata": {},
   "source": [
    "这个 test(nums) 函数的作用是将给定的数字列表重新缩放到范围 [0, 1]，即最小值被映射为 0，最大值被映射为 1，其余的数字按比例缩放到 0 和 1 之间。这样，你就能得到一个新的数值范围统一为 [0, 1] 的列表。具体来看代码做了以下几步：\n",
    "\n",
    "代码解释：\n",
    "\n",
    "a = min(nums)\n",
    "b = max(nums)\n",
    "\n",
    "        1.        首先找到列表中的最小值 a 和最大值 b。这是用来计算每个数字在原范围（从 a 到 b）到新范围 [0, 1] 的映射。\n",
    "\n",
    "if b - a == 0:\n",
    "    return [0.0] + [1.0] * (len(nums) - 1)\n",
    "\n",
    "        2.        检查 b - a 是否等于 0。如果最小值和最大值相等，那么说明列表中的所有数字都是相同的。在这种情况下，无法正常缩放，因为所有数字都会被映射为同一个值。为了解决这个问题，返回一个特殊的结果：第一个元素是 0.0，其余的元素都是 1.0。\n",
    "\n",
    "for i in range(len(nums)):\n",
    "    nums[i] = (nums[i] - a) / (b - a)\n",
    "\n",
    "        3.        如果 b - a 不为 0，表示列表中的数字是有差异的。此时，进入循环对每个元素进行重新缩放：\n",
    "        •        (nums[i] - a) 是将元素 nums[i] 从最小值 a 开始平移，使得 a 对应于 0。\n",
    "        •        然后再除以 (b - a)，将值缩放到 [0, 1] 之间。\n",
    "\n",
    "return nums\n",
    "\n",
    "        4.        返回缩放后的 nums 列表。\n",
    "\n",
    "示例：\n",
    "\n",
    "假设输入的 nums 列表为：\n",
    "\n",
    "nums = [18.5, 17.0, 18.0, 19.0, 18.0]\n",
    "\n",
    "步骤如下：\n",
    "\n",
    "        1.        min(nums) = 17.0\n",
    "        2.        max(nums) = 19.0\n",
    "        3.        对每个元素进行重新缩放：\n",
    "        •        对 18.5：(18.5 - 17.0) / (19.0 - 17.0) = 1.5 / 2 = 0.75\n",
    "        •        对 17.0：(17.0 - 17.0) / (19.0 - 17.0) = 0 / 2 = 0\n",
    "        •        对 18.0：(18.0 - 17.0) / (19.0 - 17.0) = 1 / 2 = 0.5\n",
    "        •        对 19.0：(19.0 - 17.0) / (19.0 - 17.0) = 2 / 2 = 1\n",
    "        •        对 18.0：重复上述 18.0 的计算，结果是 0.5\n",
    "\n",
    "最终返回的 nums 列表将是：\n",
    "\n",
    "[0.75, 0.0, 0.5, 1.0, 0.5]\n",
    "\n",
    "总结：\n",
    "\n",
    "这个程序的目的就是将给定数字列表缩放到 [0, 1] 范围，使得最小值为 0，最大值为 1，其余数字按比例缩放。"
   ]
  },
  {
   "cell_type": "code",
   "execution_count": 70,
   "metadata": {},
   "outputs": [
    {
     "data": {
      "text/plain": [
       "[0, 2, 4]"
      ]
     },
     "execution_count": 70,
     "metadata": {},
     "output_type": "execute_result"
    }
   ],
   "source": [
    "def test(s):\n",
    "    '''33.编写一个 Python 程序，找出给定字符串偶数索引中所有大写元音（不包括 Y）的位置。\n",
    "    英语元音字母有：A、E、I、O、U'''\n",
    "    return [i for i in range(len(s)) if i % 2 == 0 and s[i] in 'AEIOU']\n",
    "\n",
    "    #return [i for i, c in enumerate(s) if i % 2 == 0 and c in \"AEIOU\"]\n",
    "\n",
    "s = 'AEIOUYW'\n",
    "test(s)"
   ]
  },
  {
   "cell_type": "code",
   "execution_count": 74,
   "metadata": {},
   "outputs": [
    {
     "data": {
      "text/plain": [
       "108"
      ]
     },
     "execution_count": 74,
     "metadata": {},
     "output_type": "execute_result"
    }
   ],
   "source": [
    "def test(nums, k):\n",
    "    '''34.编写一个 Python 程序，求出给定列表中前 k 个大于 2 位的数字之和。'''\n",
    "    return sum(nums[i] for i in range(len(nums))[:k] if len(str(abs(nums[i]))) > 2)\n",
    "\n",
    "nums = [4, 5, 17, 9, 14, 108, -9, 12, 76]\n",
    "test(nums, 6)\n",
    "    "
   ]
  },
  {
   "cell_type": "code",
   "execution_count": 93,
   "metadata": {},
   "outputs": [
    {
     "data": {
      "text/plain": [
       "945"
      ]
     },
     "execution_count": 93,
     "metadata": {},
     "output_type": "execute_result"
    }
   ],
   "source": [
    "import functools\n",
    "import operator\n",
    "def test(n):\n",
    "    '''35.编写一个 Python 程序来计算给定数字中奇数位的乘积，如果没有奇数位，则计算 0。'''\n",
    "    if any(int(c) % 2 for c in str(n)):\n",
    "        prod = 1    \n",
    "        for c in str(n):\n",
    "            if int(c) % 2 == 1: \n",
    "                prod *= int(c)\n",
    "        return prod\n",
    "    return 0\n",
    "\n",
    "n = 123456789\n",
    "test(n)\n",
    "    "
   ]
  },
  {
   "cell_type": "markdown",
   "metadata": {},
   "source": [
    "Python 中没有直接的内置函数来计算列表中所有元素的乘积，但你可以使用 functools.reduce() 函数结合 operator.mul 来实现乘法操作。代码如下：\n",
    "\n",
    "import functools\n",
    "import operator\n",
    "\n",
    "list1 = [1, 2, 3]\n",
    "result = functools.reduce(operator.mul, list1)\n",
    "print(result)  # 输出: 6\n",
    "\n",
    "解释：\n",
    "\n",
    "        •        functools.reduce() 会把函数 operator.mul 依次应用到列表中的元素上，从而实现所有元素的累积乘法。\n",
    "        •        operator.mul 是乘法运算符函数，相当于用 * 来逐个相乘。\n",
    "\n",
    "简便方法：\n",
    "\n",
    "你还可以用简单的循环来实现这个功能：\n",
    "\n",
    "list1 = [1, 2, 3]\n",
    "result = 1\n",
    "for i in list1:\n",
    "    result *= i\n",
    "print(result)  # 输出: 6\n",
    "\n",
    "从 Python 3.8 开始：\n",
    "\n",
    "如果你想要更短的代码，你可以直接使用 math.prod()，它是从 Python 3.8 引入的专门用于计算乘积的函数：\n",
    "\n",
    "import math\n",
    "\n",
    "list1 = [1, 2, 3]\n",
    "result = math.prod(list1)\n",
    "print(result)  # 输出: 6\n",
    "\n",
    "这个 math.prod() 是最快捷和最简便的方式。"
   ]
  },
  {
   "cell_type": "code",
   "execution_count": 15,
   "metadata": {},
   "outputs": [
    {
     "data": {
      "text/plain": [
       "[6, 5, 5, 4]"
      ]
     },
     "execution_count": 15,
     "metadata": {},
     "output_type": "execute_result"
    }
   ],
   "source": [
    "def test(nums,k):\n",
    "    '''36.编写一个 Python 程序，从给定的数字列表中找出最大的 k 个数字。'''\n",
    "    # nums = sorted(nums,reverse=True)\n",
    "    # return nums[:k]\n",
    "    \n",
    "    if k == 0:\n",
    "        return []\n",
    "    elif k == len(nums):\n",
    "        return nums\n",
    "    else:\n",
    "        x = nums[0]\n",
    "        for n in nums:\n",
    "            if x < n:\n",
    "                x = n\n",
    "        result = [x]\n",
    "        largest = nums[:]\n",
    "        largest.remove(x)\n",
    "        while len(result) != k:\n",
    "            smallest = largest[0]\n",
    "            for n in largest:\n",
    "                if smallest < n:\n",
    "                    smallest = n\n",
    "            result.append(smallest)\n",
    "            largest.remove(smallest)\n",
    "        return result\n",
    "\n",
    "nums = [1, 2, 3, 4, 5, 5, 3, 6, 2] \n",
    "test(nums,4)\n"
   ]
  },
  {
   "cell_type": "markdown",
   "metadata": {},
   "source": [
    "这两种方法的目标都是从给定的数字列表中找出最大的 k 个数字，但它们在实现逻辑和复杂性上有所不同。\n",
    "\n",
    "1. 方法一（排序法）：\n",
    "\n",
    "# 方法一\n",
    "nums = sorted(nums, reverse=True)\n",
    "return nums[:k]\n",
    "\n",
    "特点：\n",
    "\n",
    "\t•\t简单明了：这是一种非常直接的方式。通过调用 sorted() 函数对 nums 进行排序，reverse=True 将列表按降序排列，然后通过切片 nums[:k] 获取前 k 个最大的元素。\n",
    "\t•\t时间复杂度：排序的时间复杂度是 O(n log n)，其中 n 是列表的长度。虽然排序操作不一定是最有效的，但对于一般情况而言，这种方法非常易读且常用。\n",
    "\t•\t代码简洁：仅需要一行代码就能解决问题。\n",
    "\n",
    "适用场景：当你希望快速获取结果，并且对于计算效率要求不是特别严格时，使用这种方法非常方便。\n",
    "\n",
    "2. 方法二（选择法）：\n",
    "\n",
    "# 方法二\n",
    "if k == 0:\n",
    "    return []\n",
    "elif k == len(nums):\n",
    "    return nums\n",
    "else:\n",
    "    # 找出最大的 k 个数字\n",
    "\n",
    "特点：\n",
    "\n",
    "\t•\t手动选择最大值：这个方法通过手动遍历 nums 列表，找到当前的最大值并将其从 nums 中移除，直到找出 k 个最大的数字。每次找最大值时，它会遍历列表一次，并且从中找到最大值后移除它，再重复这个过程，直到找到所有最大的 k 个数。\n",
    "\t•\t时间复杂度：每次找到最大值都需要遍历剩下的列表，所以该方法的时间复杂度是 O(k * n)，因为每找到一个最大值需要遍历剩余的元素 n 次（之后会减少），整体复杂度是线性乘以 k。\n",
    "\t•\t代码复杂性：该方法的逻辑较为复杂，尤其是不断更新 largest 列表、移除元素并手动比较每个元素。相较于排序法，它更难理解和维护。\n",
    "\n",
    "适用场景：这种方法适合在列表较短、且不希望完全排序时使用。但通常排序法的效率更高且代码简洁，所以这种手动选择最大值的方法在实际场景中并不常用。\n",
    "\n",
    "对比总结：\n",
    "\n",
    "\t1.\t方法一（排序法）：简单直接，代码简洁，适合大多数情况下的使用。时间复杂度是 O(n log n)，适用于中等规模的列表。\n",
    "\t2.\t方法二（选择法）：通过手动逐步找出最大的 k 个元素，逻辑上更复杂，且代码可读性差。时间复杂度更高为 O(k * n)，不适合处理较大的数据集。\n",
    "\n",
    "因此，**第一种方法（排序法）**是更推荐的方式，因为它不仅代码简洁，效率也通常比手动选择法更高。"
   ]
  },
  {
   "cell_type": "code",
   "execution_count": 1,
   "metadata": {},
   "outputs": [
    {
     "data": {
      "text/plain": [
       "9"
      ]
     },
     "execution_count": 1,
     "metadata": {},
     "output_type": "execute_result"
    }
   ],
   "source": [
    "def test(n):\n",
    "    '''37.编写一个 Python 程序，找出小于 n 的数字 n 的最大整数除数。'''\n",
    "    return next(d for d in range(n - 1, 0, -1) if n % d == 0) #返回第一个满足条件的值\n",
    "n = 18\n",
    "test(n)"
   ]
  },
  {
   "cell_type": "code",
   "execution_count": 2,
   "metadata": {},
   "outputs": [
    {
     "data": {
      "text/plain": [
       "[10, 11, 20, 12, 13, 14, 15, 16, 17, 18, 19]"
      ]
     },
     "execution_count": 2,
     "metadata": {},
     "output_type": "execute_result"
    }
   ],
   "source": [
    "def test(nums):\n",
    "    '''38.编写一个 Python 程序，按数字之和对给定列表中的数字进行排序。'''\n",
    "    return sorted(nums, key=lambda n: sum(int(c) for c in str(n) if c != \"-\"))\n",
    "\n",
    "nums = [10, 11, 12, 13, 14, 15, 16, 17, 18, 19, 20]\n",
    "test(nums)\n"
   ]
  },
  {
   "cell_type": "code",
   "execution_count": 3,
   "metadata": {},
   "outputs": [
    {
     "data": {
      "text/plain": [
       "[False, True, True, False, True]"
      ]
     },
     "execution_count": 3,
     "metadata": {},
     "output_type": "execute_result"
    }
   ],
   "source": [
    "def test(nums):\n",
    "    '''39.编写一个 Python 程序，从给定的列表中确定哪些三元组的总和为零。'''\n",
    "    return [sum(i) == 0 for i in nums]\n",
    "\n",
    "nums = [[1343532, -2920635, 332], [-27, 18, 9], [4, 0, -4], [2, 2, 2], [-20, 16, 4]]\n",
    "test(nums)"
   ]
  },
  {
   "cell_type": "code",
   "execution_count": 6,
   "metadata": {},
   "outputs": [
    {
     "data": {
      "text/plain": [
       "'pYTHQN'"
      ]
     },
     "execution_count": 6,
     "metadata": {},
     "output_type": "execute_result"
    }
   ],
   "source": [
    "def test(s):\n",
    "    '''40.编写一个 Python 程序来查找字符串，当翻转大小写时，给出一个目标，其中元音被两个后面的字符替换。\n",
    "    英语元音字母有：A、E、I、O、U'''\n",
    "    # translation_mapping = {ord(c): ord(c) + 2 for c in \"aeiouAEIOU\"}\n",
    "    # result = s.translate(translation_mapping).swapcase()\n",
    "    # return result\n",
    "\n",
    "    translation_mapping = {\n",
    "        ord('a'): ord('c'),\n",
    "        ord('e'): ord('g'),\n",
    "        ord('i'): ord('j'),\n",
    "        ord('o'): ord('q'),\n",
    "        ord('u'): ord('x'),\n",
    "        ord('A'): ord('C'),\n",
    "        ord('E'): ord('G'),\n",
    "        ord('I'): ord('J'),\n",
    "        ord('O'): ord('Q'),\n",
    "        ord('U'): ord('X'),\n",
    "        ord(' '): ord(' ')\n",
    "    }\n",
    "    result = s.swapcase().translate(translation_mapping)\n",
    "    return result\n",
    "\n",
    "s = 'Python'\n",
    "test(s)\n",
    "    "
   ]
  },
  {
   "cell_type": "code",
   "execution_count": 7,
   "metadata": {},
   "outputs": [
    {
     "data": {
      "text/plain": [
       "'one two three four six'"
      ]
     },
     "execution_count": 7,
     "metadata": {},
     "output_type": "execute_result"
    }
   ],
   "source": [
    "def test(strs):\n",
    "    '''41.编写一个 Python 程序，根据字符串对数字进行排序。'''\n",
    "    selected_numbers = [x for x in 'one two three four five six seven eight nine'.split() if x in strs]\n",
    "    result = ' '.join(selected_numbers)\n",
    "    return result\n",
    "\n",
    "strs = \"six one four one two three\"\n",
    "test(strs)"
   ]
  },
  {
   "cell_type": "code",
   "execution_count": 9,
   "metadata": {},
   "outputs": [
    {
     "data": {
      "text/plain": [
       "['h', 'e', 'l', 'o']"
      ]
     },
     "execution_count": 9,
     "metadata": {},
     "output_type": "execute_result"
    }
   ],
   "source": [
    "def test(strs):\n",
    "    '''42.编写一个 Python 程序，在给定的字符串中查找一组不同的字符，忽略大小写。'''\n",
    "    return [*set(strs.lower())]\n",
    "\n",
    "strs = \"HELLO\"\n",
    "test(strs)"
   ]
  },
  {
   "cell_type": "markdown",
   "metadata": {},
   "source": [
    "在 Python 中，* 号在函数调用中的作用是解包（unpacking）。它会将一个可迭代对象（如列表、元组或集合）中的每个元素依次取出，作为单独的参数传递给函数。\n",
    "\n",
    "例子：\n",
    "\n",
    "strs = \"Hello\"\n",
    "[*set(strs.lower())]\n",
    "\n",
    "解释：\n",
    "\n",
    "        1.        strs.lower()：这是将字符串 strs 全部转换为小写字母。假设 strs = \"Hello\"，那么 strs.lower() 将返回 \"hello\"。\n",
    "        2.        set(strs.lower())：set() 会将字符串 \"hello\" 转换为一个集合，集合中的元素是该字符串的所有唯一字符。字符串是可迭代对象，所以 set() 会将其拆分为单个字符，再去重，结果为 {'h', 'e', 'l', 'o'}。集合中的元素没有顺序，并且重复的字符（如 \"l\") 只会出现一次。\n",
    "        3.        [*set(strs.lower())]：这里的 * 号用于解包集合，将集合中的每个元素依次取出并放入一个列表中。实际上，它相当于逐个取出集合中的元素然后构建一个列表。"
   ]
  },
  {
   "cell_type": "code",
   "execution_count": 15,
   "metadata": {},
   "outputs": [
    {
     "data": {
      "text/plain": [
       "['this']"
      ]
     },
     "execution_count": 15,
     "metadata": {},
     "output_type": "execute_result"
    }
   ],
   "source": [
    "def test(strs, n):\n",
    "    '''43.编写一个 Python 程序，查找给定字符串中含有 n 个辅音的所有单词。'''\n",
    "    return [w for w in strs.split() if sum([c not in \"aeiou\" for c in w.lower()]) == n]\n",
    "\n",
    "strs = \"this is our time\"\n",
    "test(strs, 3)"
   ]
  },
  {
   "cell_type": "code",
   "execution_count": 16,
   "metadata": {},
   "outputs": [
    {
     "data": {
      "text/plain": [
       "[False, True, True, False, True, False, True]"
      ]
     },
     "execution_count": 16,
     "metadata": {},
     "output_type": "execute_result"
    }
   ],
   "source": [
    "def test(hn):\n",
    "    '''44.编写一个 Python 程序，找出十六进制数中哪些字符与素数相对应。'''\n",
    "    return [c in \"2357BD\" for c in hn]\n",
    "\n",
    "hn = \"123ABCD\"\n",
    "test(hn)"
   ]
  },
  {
   "cell_type": "code",
   "execution_count": 17,
   "metadata": {},
   "outputs": [
    {
     "data": {
      "text/plain": [
       "[0, 2, 4, 6, 8, 22, 44]"
      ]
     },
     "execution_count": 17,
     "metadata": {},
     "output_type": "execute_result"
    }
   ],
   "source": [
    "def test(n):\n",
    "    '''45.编写一个 Python 程序来查找所有不超过 n 个偶回文数。'''\n",
    "    return [i for i in range(0, n, 2) if str(i) == str(i)[::-1]]\n",
    "\n",
    "test(50)"
   ]
  },
  {
   "cell_type": "code",
   "execution_count": 19,
   "metadata": {},
   "outputs": [
    {
     "data": {
      "text/plain": [
       "[4, 2]"
      ]
     },
     "execution_count": 19,
     "metadata": {},
     "output_type": "execute_result"
    }
   ],
   "source": [
    "def test(nums):\n",
    "    '''46.给定一个表示二叉树分支的数字数组，编写一个 Python 程序来查找最小偶数值及其索引。如果出现平局，则返回最小索引。如果没有偶数，则答案为 []。'''\n",
    "    if any(n % 2 == 0 for n in nums):\n",
    "        return min([v, i] for i, v in enumerate(nums) if v % 2 == 0)\n",
    "    else:\n",
    "        return []\n",
    "    \n",
    "nums =  [1, 9, 4, 6, 10, 11, 14, 8]\n",
    "test(nums)"
   ]
  },
  {
   "cell_type": "code",
   "execution_count": 20,
   "metadata": {},
   "outputs": [
    {
     "data": {
      "text/plain": [
       "[11, -103]"
      ]
     },
     "execution_count": 20,
     "metadata": {},
     "output_type": "execute_result"
    }
   ],
   "source": [
    "def test(nums):\n",
    "    '''47.编写一个 Python 程序，筛选给定列表中数字之和 > 0 的数字，其中第一位数字可以为负数。'''\n",
    "    return [n for n in nums if int(str(n)[:2]) + sum(map(int, str(n)[2:])) > 0]\n",
    "\n",
    "nums =  [11, -6, -103, -200]\n",
    "test(nums)"
   ]
  },
  {
   "cell_type": "code",
   "execution_count": 21,
   "metadata": {},
   "outputs": [
    {
     "data": {
      "text/plain": [
       "[2, 3]"
      ]
     },
     "execution_count": 21,
     "metadata": {},
     "output_type": "execute_result"
    }
   ],
   "source": [
    "def test(nums):\n",
    "    '''48.编写一个 Python 程序来查找表明列表不是按递增顺序排列的两个条目的索引。如果没有违规（它们是递增的），则返回一个空列表。'''\n",
    "    for i in range(len(nums) - 1):\n",
    "        if nums[i] >= nums[i + 1]:\n",
    "            return [i, i + 1]\n",
    "    return []\n",
    "\n",
    "nums =  [1,2,3,0,4,5,6]\n",
    "test(nums)"
   ]
  },
  {
   "cell_type": "code",
   "execution_count": 26,
   "metadata": {},
   "outputs": [
    {
     "data": {
      "text/plain": [
       "4"
      ]
     },
     "execution_count": 26,
     "metadata": {},
     "output_type": "execute_result"
    }
   ],
   "source": [
    "def test(nums):\n",
    "    '''49.编写一个 Python 程序来查找 h 指数，即最大的正数 h，使得 h 在序列中至少出现 h 次。如果没有这样的正数，则返回 h = -1。'''\n",
    "    # for i in nums:\n",
    "    #     if nums.count(i) >= i and i > 0:\n",
    "    #         return i\n",
    "    # return -1\n",
    "\n",
    "    return max([-1] + [i for i in nums if i > 0 and nums.count(i) >= i])\n",
    "\n",
    "nums = [1, 2, 2, 3, 3, 4, 4, 4, 4]\n",
    "test(nums)\n"
   ]
  },
  {
   "cell_type": "code",
   "execution_count": 27,
   "metadata": {},
   "outputs": [
    {
     "data": {
      "text/plain": [
       "['Pink', 'Orange']"
      ]
     },
     "execution_count": 27,
     "metadata": {},
     "output_type": "execute_result"
    }
   ],
   "source": [
    "def test(words):\n",
    "    '''50.编写一个 Python 程序，从给定的单词列表中查找长度相等的单词，并按长度对它们进行排序。'''\n",
    "    return sorted([w for w in words if len(w) % 2 == 0], key=lambda w: (len(w), w))\n",
    "\n",
    "words = [\"Red\", \"Black\", \"White\", \"Green\", \"Pink\", \"Orange\"]\n",
    "test(words)"
   ]
  },
  {
   "cell_type": "code",
   "execution_count": null,
   "metadata": {},
   "outputs": [],
   "source": []
  }
 ],
 "metadata": {
  "kernelspec": {
   "display_name": "Python 3",
   "language": "python",
   "name": "python3"
  },
  "language_info": {
   "codemirror_mode": {
    "name": "ipython",
    "version": 3
   },
   "file_extension": ".py",
   "mimetype": "text/x-python",
   "name": "python",
   "nbconvert_exporter": "python",
   "pygments_lexer": "ipython3",
   "version": "3.7.16"
  }
 },
 "nbformat": 4,
 "nbformat_minor": 2
}
