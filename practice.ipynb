{
 "cells": [
  {
   "cell_type": "code",
   "execution_count": 3,
   "metadata": {},
   "outputs": [
    {
     "data": {
      "text/plain": [
       "False"
      ]
     },
     "execution_count": 3,
     "metadata": {},
     "output_type": "execute_result"
    }
   ],
   "source": [
    "def test(li,i):\n",
    "    '''检查给定的整数列表，其中前 i 个整数的和为 i'''\n",
    "    return sum(li[:i]) == i\n",
    "li = [2,2,2,5,56,4]\n",
    "test(li,2)\n"
   ]
  },
  {
   "cell_type": "code",
   "execution_count": 24,
   "metadata": {},
   "outputs": [
    {
     "name": "stdout",
     "output_type": "stream",
     "text": [
      "['W3resource', ' ', 'Python', ', ', 'Exercises', '.', '']\n"
     ]
    },
    {
     "data": {
      "text/plain": [
       "[['W3resource', 'Python', 'Exercises', ''], [' ', ', ', '.']]"
      ]
     },
     "execution_count": 24,
     "metadata": {},
     "output_type": "execute_result"
    }
   ],
   "source": [
    "import re\n",
    "def test(string):\n",
    "    '''将一串用逗号和空格分隔的单词拆分为两个列表，即单词和分隔符'''\n",
    "    merged = re.split(r\"([ ,.]+)\", string)\n",
    "    print(merged)\n",
    "    return [merged[::2], merged[1::2]]\n",
    "\n",
    "s = \"W3resource Python, Exercises.\"\n",
    "test(s)"
   ]
  },
  {
   "cell_type": "code",
   "execution_count": 31,
   "metadata": {},
   "outputs": [
    {
     "data": {
      "text/plain": [
       "True"
      ]
     },
     "execution_count": 31,
     "metadata": {},
     "output_type": "execute_result"
    }
   ],
   "source": [
    "def test(nums):\n",
    "    '''查找一个包含四个不同值的整数列表，使得前二十个条目中没有整数连续重复两次'''\n",
    "    return all([nums[i] != nums[i + 1] for i in range(len(nums) - 1)]) and len(set(nums)) == 4\n",
    "\n",
    "nums = [1,2,3,4,2]\n",
    "test(nums)"
   ]
  },
  {
   "cell_type": "code",
   "execution_count": null,
   "metadata": {},
   "outputs": [],
   "source": [
    "def test(combined):\n",
    "    '''给定一个由空格和匹配的括号组组成的字符串，编写一个 Python 程序将其拆分为完全匹配的括号组，没有任何空格'''\n",
    "    ls = []\n",
    "    s2 = \"\"\n",
    "    for s in combined.replace(' ', ''):\n",
    "        s2 += s\n",
    "        \n",
    "        if s2.count(\"(\") == s2.count(\")\"):\n",
    "            ls.append(s2)\n",
    "            \n",
    "            s2 = \"\"\n",
    "    \n",
    "    return ls\n",
    "\n",
    "combined = '( ()) ((()()())) (()) ()'\n",
    "test(combined)\n"
   ]
  },
  {
   "cell_type": "code",
   "execution_count": 2,
   "metadata": {},
   "outputs": [
    {
     "data": {
      "text/plain": [
       "[0, 1, 2, 3, 4, 5, 9]"
      ]
     },
     "execution_count": 2,
     "metadata": {},
     "output_type": "execute_result"
    }
   ],
   "source": [
    "def test(nums,thresh):\n",
    "    '''查找给定列表中低于给定阈值的数字索引。'''\n",
    "    return [i for i, n in enumerate(nums) if n < thresh]\n",
    "\n",
    "nums = [1,23,4,5,6,44,6677,222,4556,22]\n",
    "test(nums,50)"
   ]
  },
  {
   "cell_type": "code",
   "execution_count": 19,
   "metadata": {},
   "outputs": [
    {
     "data": {
      "text/plain": [
       "[False, True, True, False, False]"
      ]
     },
     "execution_count": 19,
     "metadata": {},
     "output_type": "execute_result"
    }
   ],
   "source": [
    "def test(strs):\n",
    "    '''编写一个 Python 程序来检查给定的字符串倒过来是否与原来一样。返回 True，否则返回 False。'''\n",
    "    return [s == s[::-1] for s in strs]\n",
    "\n",
    "str = ['palindrome', 'madamimadam', '', 'foo', 'eyes']\n",
    "test(str)"
   ]
  },
  {
   "cell_type": "code",
   "execution_count": 20,
   "metadata": {},
   "outputs": [
    {
     "data": {
      "text/plain": [
       "['cat', 'car']"
      ]
     },
     "execution_count": 20,
     "metadata": {},
     "output_type": "execute_result"
    }
   ],
   "source": [
    "def test(strs,prefix):\n",
    "    '''13.编写一个 Python 程序，在给定列表中查找以给定前缀开头的字符串。'''\n",
    "    return [s for s in strs if s.startswith(prefix)]\n",
    "strs = ['cat', 'car', 'fear', 'center']\n",
    "test(strs,'ca')"
   ]
  },
  {
   "cell_type": "code",
   "execution_count": 21,
   "metadata": {},
   "outputs": [
    {
     "data": {
      "text/plain": [
       "[3, 3, 4, 6]"
      ]
     },
     "execution_count": 21,
     "metadata": {},
     "output_type": "execute_result"
    }
   ],
   "source": [
    "def test(li):\n",
    "    '''14.编写一个 Python 程序来查找给定非空字符串列表的长度。'''\n",
    "    return [len(i) for i in li]\n",
    "\n",
    "li = ['cat', 'car', 'fear', 'center']\n",
    "test(li)\n"
   ]
  },
  {
   "cell_type": "code",
   "execution_count": 23,
   "metadata": {},
   "outputs": [
    {
     "data": {
      "text/plain": [
       "[3, 3, 4, 6]"
      ]
     },
     "execution_count": 23,
     "metadata": {},
     "output_type": "execute_result"
    }
   ],
   "source": [
    "def test(strs):\n",
    "    '''14.编写一个 Python 程序来查找给定非空字符串列表的长度。'''\n",
    "    return [*map(len, strs)]\n",
    "\n",
    "strs = ['cat', 'car', 'fear', 'center']\n",
    "test(strs)"
   ]
  },
  {
   "cell_type": "code",
   "execution_count": 24,
   "metadata": {},
   "outputs": [
    {
     "data": {
      "text/plain": [
       "'center'"
      ]
     },
     "execution_count": 24,
     "metadata": {},
     "output_type": "execute_result"
    }
   ],
   "source": [
    "def test(words):\n",
    "    '''15.编写一个 Python 程序，在给定的字符串列表中查找最长的字符串。'''\n",
    "    return max(words, key=len)\n",
    "\n",
    "strs = ['cat', 'car', 'fear', 'center']\n",
    "test(strs)"
   ]
  },
  {
   "cell_type": "code",
   "execution_count": 30,
   "metadata": {},
   "outputs": [
    {
     "data": {
      "text/plain": [
       "'center'"
      ]
     },
     "execution_count": 30,
     "metadata": {},
     "output_type": "execute_result"
    }
   ],
   "source": [
    "def test(strs):\n",
    "    '''15.编写一个 Python 程序，在给定的字符串列表中查找最长的字符串。'''\n",
    "    return strs[[*map(len, strs)].index(max([*map(len, strs)]))]\n",
    "\n",
    "strs = ['cat', 'car', 'fear', 'center']\n",
    "test(strs)"
   ]
  },
  {
   "cell_type": "code",
   "execution_count": 32,
   "metadata": {},
   "outputs": [
    {
     "data": {
      "text/plain": [
       "['car', 'fear']"
      ]
     },
     "execution_count": 32,
     "metadata": {},
     "output_type": "execute_result"
    }
   ],
   "source": [
    "def test(strs,substr):\n",
    "    '''16.编写一个 Python 程序，在给定列表中查找包含给定子字符串的字符串。'''\n",
    "    return [s for s in strs if substr in s]\n",
    "\n",
    "strs = ['cat', 'car', 'fear', 'center']\n",
    "test(strs,'ar')"
   ]
  },
  {
   "cell_type": "code",
   "execution_count": 2,
   "metadata": {},
   "outputs": [
    {
     "data": {
      "text/plain": [
       "'[0, 1, 2, 3, 4, 5, 6, 7, 8, 9, 10, 11, 12, 13, 14, 15]'"
      ]
     },
     "execution_count": 2,
     "metadata": {},
     "output_type": "execute_result"
    }
   ],
   "source": [
    "def test(n):\n",
    "    '''17.编写一个 Python 程序来创建一个由最多 n 个非负整数组成的字符串。'''\n",
    "    return str([i for i in range(n+1)])\n",
    "\n",
    "test(15)"
   ]
  },
  {
   "cell_type": "code",
   "execution_count": 1,
   "metadata": {},
   "outputs": [
    {
     "data": {
      "text/plain": [
       "'0 1 2 3 4 5 6 7 8 9 10 11 12 13 14 15'"
      ]
     },
     "execution_count": 1,
     "metadata": {},
     "output_type": "execute_result"
    }
   ],
   "source": [
    "def test(n):\n",
    "    '''17.编写一个 Python 程序来创建一个由最多 n 个非负整数组成的字符串。'''\n",
    "    return ' '.join(map(str, range(n + 1)))\n",
    "\n",
    "test(15)"
   ]
  },
  {
   "cell_type": "code",
   "execution_count": 3,
   "metadata": {},
   "outputs": [
    {
     "data": {
      "text/plain": [
       "[[0, 4], [1, 0], [1, 3], [4, 1]]"
      ]
     },
     "execution_count": 3,
     "metadata": {},
     "output_type": "execute_result"
    }
   ],
   "source": [
    "def test(M,T):\n",
    "    '''18.不规则/不均匀矩阵或不规则矩阵是每行元素数量不同的矩阵。不规则矩阵不用于线性代数，因为无法对它们执行标准矩阵变换，但它们在计算中用作数组。\n",
    "        编写一个 Python 程序来查找不均匀矩阵中所有出现的 target 的索引。'''\n",
    "    return [[i, j] for i, row in enumerate(M) for j, n in enumerate(row) if n == T]\n",
    "M = [[1, 3, 2, 32, 19], [19, 2, 48, 19], [], [9, 35, 4], [3, 19]]\n",
    "T = 19\n",
    "test(M,T)"
   ]
  },
  {
   "cell_type": "code",
   "execution_count": 11,
   "metadata": {},
   "outputs": [
    {
     "data": {
      "text/plain": [
       "['b', 'd']"
      ]
     },
     "execution_count": 11,
     "metadata": {},
     "output_type": "execute_result"
    }
   ],
   "source": [
    "def test(s):\n",
    "    '''19. 编写一个 Python 程序，如果给定的字符串（s）中有空格，则将其拆分为字符串，否则如果有逗号，则用逗号拆分，否则返回奇数顺序的小写字母列表（顺序为 a = 0、b = 1 等）。'''\n",
    "    if \" \" in s:\n",
    "        return s.split(\" \")\n",
    "    elif \",\" in s:\n",
    "        return s.split(\",\")\n",
    "    else:   \n",
    "        return [c for c in s if c.islower() and ord(c) % 2 == 0]  #ord() 函数是 chr() 函数（对于8位的ASCII字符串）或 unichr() 函数（对于Unicode对象）的配对函数\n",
    "    \n",
    "strs = \"abcd\"\n",
    "test(strs)"
   ]
  },
  {
   "cell_type": "code",
   "execution_count": 14,
   "metadata": {},
   "outputs": [
    {
     "name": "stdout",
     "output_type": "stream",
     "text": [
      "97\n",
      "a\n"
     ]
    }
   ],
   "source": [
    "print(ord('a'))\n",
    "print(chr(97))"
   ]
  },
  {
   "cell_type": "code",
   "execution_count": null,
   "metadata": {},
   "outputs": [],
   "source": [
    "def test():\n",
    "    '''20.单调序列是不断增加或不断减少的序列。\n",
    "    编写一个 Python 程序来确定单调序列数的方向（“增加”或“减少”）。'''\n",
    "    \n"
   ]
  },
  {
   "cell_type": "code",
   "execution_count": null,
   "metadata": {},
   "outputs": [],
   "source": []
  },
  {
   "cell_type": "code",
   "execution_count": null,
   "metadata": {},
   "outputs": [],
   "source": []
  },
  {
   "cell_type": "code",
   "execution_count": null,
   "metadata": {},
   "outputs": [],
   "source": []
  },
  {
   "cell_type": "code",
   "execution_count": null,
   "metadata": {},
   "outputs": [],
   "source": []
  },
  {
   "cell_type": "code",
   "execution_count": null,
   "metadata": {},
   "outputs": [],
   "source": []
  },
  {
   "cell_type": "code",
   "execution_count": null,
   "metadata": {},
   "outputs": [],
   "source": []
  }
 ],
 "metadata": {
  "kernelspec": {
   "display_name": "python_3.7",
   "language": "python",
   "name": "python3"
  },
  "language_info": {
   "codemirror_mode": {
    "name": "ipython",
    "version": 3
   },
   "file_extension": ".py",
   "mimetype": "text/x-python",
   "name": "python",
   "nbconvert_exporter": "python",
   "pygments_lexer": "ipython3",
   "version": "3.7.16"
  }
 },
 "nbformat": 4,
 "nbformat_minor": 2
}
